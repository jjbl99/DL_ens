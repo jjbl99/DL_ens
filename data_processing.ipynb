{
 "cells": [
  {
   "cell_type": "markdown",
   "id": "naughty-marathon",
   "metadata": {},
   "source": [
    "# Data processing"
   ]
  },
  {
   "cell_type": "code",
   "execution_count": 1,
   "id": "worldwide-border",
   "metadata": {},
   "outputs": [
    {
     "data": {
      "text/plain": [
       "'/Users/julesbaudet/Documents/0. Cours/ENS/Deep Learning DIY/Projet final/DL_ens'"
      ]
     },
     "execution_count": 1,
     "metadata": {},
     "output_type": "execute_result"
    }
   ],
   "source": [
    "import pandas as pd \n",
    "import glob \n",
    "import numpy as np\n",
    "import matplotlib.pyplot as plt\n",
    "import seaborn as sns\n",
    "import networkx as nx\n",
    "import os \n",
    "import sklearn\n",
    "from scipy.sparse import csr_matrix\n",
    "from pandas.api.types import CategoricalDtype\n",
    "os.getcwd()"
   ]
  },
  {
   "cell_type": "code",
   "execution_count": 2,
   "id": "excessive-bosnia",
   "metadata": {},
   "outputs": [],
   "source": [
    "path = \"/Users/julesbaudet/Documents/0. Cours/ENS/Deep Learning DIY/Projet final/ens_data\"\n",
    "# path = \"/Users/linusbleistein/Documents/Cours ENS/Cours mathématiques/Deep learning 2020-2021/data_project\""
   ]
  },
  {
   "cell_type": "code",
   "execution_count": 3,
   "id": "twenty-eagle",
   "metadata": {},
   "outputs": [
    {
     "data": {
      "text/html": [
       "<div>\n",
       "<style scoped>\n",
       "    .dataframe tbody tr th:only-of-type {\n",
       "        vertical-align: middle;\n",
       "    }\n",
       "\n",
       "    .dataframe tbody tr th {\n",
       "        vertical-align: top;\n",
       "    }\n",
       "\n",
       "    .dataframe thead th {\n",
       "        text-align: right;\n",
       "    }\n",
       "</style>\n",
       "<table border=\"1\" class=\"dataframe\">\n",
       "  <thead>\n",
       "    <tr style=\"text-align: right;\">\n",
       "      <th></th>\n",
       "      <th>Unnamed: 0</th>\n",
       "      <th>from_address</th>\n",
       "      <th>to_address</th>\n",
       "      <th>value</th>\n",
       "      <th>unix_block_timestamp</th>\n",
       "      <th>send_is_id</th>\n",
       "      <th>receive_is_id</th>\n",
       "      <th>labels_send</th>\n",
       "      <th>labels_receive</th>\n",
       "    </tr>\n",
       "  </thead>\n",
       "  <tbody>\n",
       "    <tr>\n",
       "      <th>0</th>\n",
       "      <td>2438955</td>\n",
       "      <td>0x88e2efac3d2ef957fcd82ec201a506871ad06204</td>\n",
       "      <td>0x67fa2c06c9c6d4332f330e14a66bdf1873ef3d2b</td>\n",
       "      <td>1.0</td>\n",
       "      <td>1496084349</td>\n",
       "      <td>0</td>\n",
       "      <td>0</td>\n",
       "      <td>NaN</td>\n",
       "      <td>NaN</td>\n",
       "    </tr>\n",
       "    <tr>\n",
       "      <th>1</th>\n",
       "      <td>2305151</td>\n",
       "      <td>0x88e2efac3d2ef957fcd82ec201a506871ad06204</td>\n",
       "      <td>0x67fa2c06c9c6d4332f330e14a66bdf1873ef3d2b</td>\n",
       "      <td>7999999.0</td>\n",
       "      <td>1496085435</td>\n",
       "      <td>0</td>\n",
       "      <td>0</td>\n",
       "      <td>NaN</td>\n",
       "      <td>NaN</td>\n",
       "    </tr>\n",
       "    <tr>\n",
       "      <th>2</th>\n",
       "      <td>539714</td>\n",
       "      <td>0x88e2efac3d2ef957fcd82ec201a506871ad06204</td>\n",
       "      <td>0x67fa2c06c9c6d4332f330e14a66bdf1873ef3d2b</td>\n",
       "      <td>12000000.0</td>\n",
       "      <td>1496085651</td>\n",
       "      <td>0</td>\n",
       "      <td>0</td>\n",
       "      <td>NaN</td>\n",
       "      <td>NaN</td>\n",
       "    </tr>\n",
       "    <tr>\n",
       "      <th>3</th>\n",
       "      <td>539777</td>\n",
       "      <td>0x88e2efac3d2ef957fcd82ec201a506871ad06204</td>\n",
       "      <td>0x67fa2c06c9c6d4332f330e14a66bdf1873ef3d2b</td>\n",
       "      <td>113650000.0</td>\n",
       "      <td>1496085802</td>\n",
       "      <td>0</td>\n",
       "      <td>0</td>\n",
       "      <td>NaN</td>\n",
       "      <td>NaN</td>\n",
       "    </tr>\n",
       "    <tr>\n",
       "      <th>4</th>\n",
       "      <td>270439</td>\n",
       "      <td>0x00954e1c8fcf1c5c274aa10b1260a94564f47b58</td>\n",
       "      <td>0x023656f850bbf662e71006b3891e797653503286</td>\n",
       "      <td>10.0</td>\n",
       "      <td>1496241893</td>\n",
       "      <td>0</td>\n",
       "      <td>0</td>\n",
       "      <td>NaN</td>\n",
       "      <td>NaN</td>\n",
       "    </tr>\n",
       "  </tbody>\n",
       "</table>\n",
       "</div>"
      ],
      "text/plain": [
       "   Unnamed: 0                                from_address  \\\n",
       "0     2438955  0x88e2efac3d2ef957fcd82ec201a506871ad06204   \n",
       "1     2305151  0x88e2efac3d2ef957fcd82ec201a506871ad06204   \n",
       "2      539714  0x88e2efac3d2ef957fcd82ec201a506871ad06204   \n",
       "3      539777  0x88e2efac3d2ef957fcd82ec201a506871ad06204   \n",
       "4      270439  0x00954e1c8fcf1c5c274aa10b1260a94564f47b58   \n",
       "\n",
       "                                   to_address        value  \\\n",
       "0  0x67fa2c06c9c6d4332f330e14a66bdf1873ef3d2b          1.0   \n",
       "1  0x67fa2c06c9c6d4332f330e14a66bdf1873ef3d2b    7999999.0   \n",
       "2  0x67fa2c06c9c6d4332f330e14a66bdf1873ef3d2b   12000000.0   \n",
       "3  0x67fa2c06c9c6d4332f330e14a66bdf1873ef3d2b  113650000.0   \n",
       "4  0x023656f850bbf662e71006b3891e797653503286         10.0   \n",
       "\n",
       "   unix_block_timestamp  send_is_id  receive_is_id  labels_send  \\\n",
       "0            1496084349           0              0          NaN   \n",
       "1            1496085435           0              0          NaN   \n",
       "2            1496085651           0              0          NaN   \n",
       "3            1496085802           0              0          NaN   \n",
       "4            1496241893           0              0          NaN   \n",
       "\n",
       "   labels_receive  \n",
       "0             NaN  \n",
       "1             NaN  \n",
       "2             NaN  \n",
       "3             NaN  \n",
       "4             NaN  "
      ]
     },
     "execution_count": 3,
     "metadata": {},
     "output_type": "execute_result"
    }
   ],
   "source": [
    "frame = pd.read_csv(os.path.join(path,\"clean_brave_data.csv\"))\n",
    "frame.head()"
   ]
  },
  {
   "cell_type": "code",
   "execution_count": 64,
   "id": "substantial-deadline",
   "metadata": {},
   "outputs": [],
   "source": [
    "# df = frame.loc[(frame[\"send_is_id\"]==1) | (frame[\"receive_is_id\"]==1)]"
   ]
  },
  {
   "cell_type": "code",
   "execution_count": 5,
   "id": "corresponding-nursery",
   "metadata": {},
   "outputs": [],
   "source": [
    "df = frame"
   ]
  },
  {
   "cell_type": "code",
   "execution_count": 6,
   "id": "abstract-discrimination",
   "metadata": {},
   "outputs": [],
   "source": [
    "#%%time\n",
    "\n",
    "#test1 = pd.crosstab(df['from_address'],df['to_address'])\n",
    "# test1"
   ]
  },
  {
   "cell_type": "code",
   "execution_count": 7,
   "id": "backed-macintosh",
   "metadata": {},
   "outputs": [
    {
     "name": "stdout",
     "output_type": "stream",
     "text": [
      "(717742, 952784)\n",
      "CPU times: user 4.93 s, sys: 147 ms, total: 5.08 s\n",
      "Wall time: 5.38 s\n"
     ]
    }
   ],
   "source": [
    "%%time\n",
    "\n",
    "from_c = CategoricalDtype(sorted(df.from_address.unique()), ordered=True)\n",
    "to_c = CategoricalDtype(sorted(df.to_address.unique()), ordered=True)\n",
    "\n",
    "row = df.from_address.astype(from_c).cat.codes\n",
    "col = df.to_address.astype(to_c).cat.codes\n",
    "sparse = csr_matrix((df[\"value\"], (row, col)), \\\n",
    "                           shape=(from_c.categories.size, to_c.categories.size))\n",
    "print(sparse.shape)"
   ]
  },
  {
   "cell_type": "code",
   "execution_count": 73,
   "id": "novel-webster",
   "metadata": {},
   "outputs": [
    {
     "data": {
      "text/plain": [
       "array([0, 0, 0, ..., 0, 0, 0])"
      ]
     },
     "execution_count": 73,
     "metadata": {},
     "output_type": "execute_result"
    }
   ],
   "source": [
    "# import the known exchange list \n",
    "exch_labels = pd.read_csv(os.path.join(path, \"exchanges_encoded.csv\"), \n",
    "                          delimiter=';', names  = ['address','label']).set_index('address')\n",
    "labels = exch_labels.to_dict()['label']\n",
    "known_addresses = list(labels.keys())"
   ]
  },
  {
   "cell_type": "code",
   "execution_count": 11,
   "id": "comprehensive-senate",
   "metadata": {},
   "outputs": [],
   "source": [
    "from sklearn.decomposition import TruncatedSVD\n",
    "#from scipy.sparse.linalg import svds"
   ]
  },
  {
   "cell_type": "code",
   "execution_count": 39,
   "id": "excessive-compact",
   "metadata": {},
   "outputs": [],
   "source": [
    "#%%time \n",
    "#u,s,vt = svds(sparse,100)"
   ]
  },
  {
   "cell_type": "code",
   "execution_count": 56,
   "id": "amber-sacramento",
   "metadata": {},
   "outputs": [
    {
     "name": "stdout",
     "output_type": "stream",
     "text": [
      "CPU times: user 43.4 s, sys: 9.29 s, total: 52.7 s\n",
      "Wall time: 43.7 s\n"
     ]
    }
   ],
   "source": [
    "%%time\n",
    "tsvd = TruncatedSVD(n_components=50, random_state=42)\n",
    "out = tsvd.fit_transform(sparse)"
   ]
  },
  {
   "cell_type": "code",
   "execution_count": 57,
   "id": "devoted-denver",
   "metadata": {},
   "outputs": [
    {
     "name": "stdout",
     "output_type": "stream",
     "text": [
      "0.9905612646937892\n"
     ]
    }
   ],
   "source": [
    "tsvd_var_ratios = tsvd.explained_variance_ratio_\n",
    "print(tsvd_var_ratios.sum())"
   ]
  },
  {
   "cell_type": "code",
   "execution_count": 58,
   "id": "resistant-billy",
   "metadata": {},
   "outputs": [],
   "source": [
    "# taken on https://chrisalbon.com/machine_learning/feature_engineering/select_best_number_of_components_in_tsvd/\n",
    "def select_n_components(var_ratio, goal_var: float) -> int:\n",
    "    total_variance = 0.0\n",
    "    n_components = 0\n",
    "    for explained_variance in var_ratio:\n",
    "        total_variance += explained_variance\n",
    "        n_components += 1\n",
    "        if total_variance >= goal_var:\n",
    "            break\n",
    "    return n_components"
   ]
  },
  {
   "cell_type": "code",
   "execution_count": 59,
   "id": "elect-congo",
   "metadata": {},
   "outputs": [
    {
     "data": {
      "text/plain": [
       "48"
      ]
     },
     "execution_count": 59,
     "metadata": {},
     "output_type": "execute_result"
    }
   ],
   "source": [
    "# Run function\n",
    "select_n_components(tsvd_var_ratios, 0.99)"
   ]
  },
  {
   "cell_type": "code",
   "execution_count": 60,
   "id": "dimensional-highlight",
   "metadata": {},
   "outputs": [
    {
     "data": {
      "text/plain": [
       "(717742, 50)"
      ]
     },
     "execution_count": 60,
     "metadata": {},
     "output_type": "execute_result"
    }
   ],
   "source": [
    "out.shape"
   ]
  },
  {
   "cell_type": "code",
   "execution_count": 77,
   "id": "geographic-conversation",
   "metadata": {},
   "outputs": [],
   "source": [
    "data = pd.DataFrame(out)\n",
    "data['label'] = np.isin(np.array(sorted(df.from_address.unique())),known_addresses).astype(int)"
   ]
  },
  {
   "cell_type": "code",
   "execution_count": 78,
   "id": "piano-intervention",
   "metadata": {},
   "outputs": [],
   "source": [
    "frame.to_csv(os.path.join(path,\"processed_data.csv\"))"
   ]
  }
 ],
 "metadata": {
  "kernelspec": {
   "display_name": "Python 3",
   "language": "python",
   "name": "python3"
  },
  "language_info": {
   "codemirror_mode": {
    "name": "ipython",
    "version": 3
   },
   "file_extension": ".py",
   "mimetype": "text/x-python",
   "name": "python",
   "nbconvert_exporter": "python",
   "pygments_lexer": "ipython3",
   "version": "3.7.9"
  }
 },
 "nbformat": 4,
 "nbformat_minor": 5
}
